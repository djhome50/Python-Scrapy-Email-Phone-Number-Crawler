{
  "cells": [
    {
      "cell_type": "markdown",
      "metadata": {
        "id": "view-in-github",
        "colab_type": "text"
      },
      "source": [
        "<a href=\"https://colab.research.google.com/github/djhome50/Python-Scrapy-Email-Phone-Number-Crawler/blob/master/email2.ipynb\" target=\"_parent\"><img src=\"https://colab.research.google.com/assets/colab-badge.svg\" alt=\"Open In Colab\"/></a>"
      ]
    },
    {
      "cell_type": "markdown",
      "metadata": {
        "id": "aXDqYpfE2QKy"
      },
      "source": [
        "Python code to send email to a list of emails from a spreadsheet"
      ]
    },
    {
      "cell_type": "code",
      "source": [
        "from google.colab import drive\n",
        "drive.mount('/content/drive')"
      ],
      "metadata": {
        "colab": {
          "base_uri": "https://localhost:8080/"
        },
        "id": "TVw2W4zv2YZC",
        "outputId": "876f0da7-3ece-4473-b5e0-dc6bd88da211"
      },
      "execution_count": 22,
      "outputs": [
        {
          "output_type": "stream",
          "name": "stdout",
          "text": [
            "Drive already mounted at /content/drive; to attempt to forcibly remount, call drive.mount(\"/content/drive\", force_remount=True).\n"
          ]
        }
      ]
    },
    {
      "cell_type": "code",
      "source": [
        "!cd '/content/drive/MyDrive/Insurance Leads/Python Email'"
      ],
      "metadata": {
        "id": "qZd_2Wn92cOU"
      },
      "execution_count": 23,
      "outputs": []
    },
    {
      "cell_type": "code",
      "execution_count": 24,
      "metadata": {
        "id": "5afDBrNn2QK3"
      },
      "outputs": [],
      "source": [
        "  \n",
        "# import the required libraries\n",
        "from datetime import datetime\n",
        "import imaplib\n",
        "import pandas as pd\n",
        "import smtplib\n",
        "  \n",
        "# Helper email modules \n",
        "from email.mime.text import MIMEText\n",
        "from email.mime.multipart import MIMEMultipart\n",
        "from email.mime.base import MIMEBase\n",
        "from email import encoders\n",
        "import email\n",
        "import time"
      ]
    },
    {
      "cell_type": "code",
      "execution_count": 26,
      "metadata": {
        "colab": {
          "base_uri": "https://localhost:8080/",
          "height": 345
        },
        "id": "1Qtwat852QK9",
        "outputId": "742288e7-7ad3-4cd3-de0d-3ad8857912da"
      },
      "outputs": [
        {
          "output_type": "error",
          "ename": "SMTPDataError",
          "evalue": "ignored",
          "traceback": [
            "\u001b[0;31m---------------------------------------------------------------------------\u001b[0m",
            "\u001b[0;31mSMTPDataError\u001b[0m                             Traceback (most recent call last)",
            "\u001b[0;32m<ipython-input-26-4f5d64ce2c21>\u001b[0m in \u001b[0;36m<module>\u001b[0;34m\u001b[0m\n\u001b[1;32m     85\u001b[0m \u001b[0;34m\u001b[0m\u001b[0m\n\u001b[1;32m     86\u001b[0m \u001b[0;32mif\u001b[0m \u001b[0m__name__\u001b[0m \u001b[0;34m==\u001b[0m \u001b[0;34m\"__main__\"\u001b[0m\u001b[0;34m:\u001b[0m\u001b[0;34m\u001b[0m\u001b[0;34m\u001b[0m\u001b[0m\n\u001b[0;32m---> 87\u001b[0;31m     \u001b[0msend_email\u001b[0m\u001b[0;34m(\u001b[0m\u001b[0;36m5\u001b[0m\u001b[0;34m)\u001b[0m\u001b[0;34m\u001b[0m\u001b[0;34m\u001b[0m\u001b[0m\n\u001b[0m",
            "\u001b[0;32m<ipython-input-26-4f5d64ce2c21>\u001b[0m in \u001b[0;36msend_email\u001b[0;34m(temperature)\u001b[0m\n\u001b[1;32m     74\u001b[0m \u001b[0;34m\u001b[0m\u001b[0m\n\u001b[1;32m     75\u001b[0m         \u001b[0;31m# sending the email\u001b[0m\u001b[0;34m\u001b[0m\u001b[0;34m\u001b[0m\u001b[0;34m\u001b[0m\u001b[0m\n\u001b[0;32m---> 76\u001b[0;31m         \u001b[0mserver\u001b[0m\u001b[0;34m.\u001b[0m\u001b[0msendmail\u001b[0m\u001b[0;34m(\u001b[0m\u001b[0myour_email\u001b[0m\u001b[0;34m,\u001b[0m \u001b[0;34m[\u001b[0m\u001b[0memail\u001b[0m\u001b[0;34m]\u001b[0m\u001b[0;34m,\u001b[0m \u001b[0mtext\u001b[0m\u001b[0;34m)\u001b[0m\u001b[0;34m\u001b[0m\u001b[0;34m\u001b[0m\u001b[0m\n\u001b[0m\u001b[1;32m     77\u001b[0m \u001b[0;34m\u001b[0m\u001b[0m\n\u001b[1;32m     78\u001b[0m         \u001b[0mimap\u001b[0m\u001b[0;34m.\u001b[0m\u001b[0mappend\u001b[0m\u001b[0;34m(\u001b[0m\u001b[0;34m'Sent'\u001b[0m\u001b[0;34m,\u001b[0m \u001b[0;34m'\\\\Seen'\u001b[0m\u001b[0;34m,\u001b[0m \u001b[0mimaplib\u001b[0m\u001b[0;34m.\u001b[0m\u001b[0mTime2Internaldate\u001b[0m\u001b[0;34m(\u001b[0m\u001b[0mtime\u001b[0m\u001b[0;34m.\u001b[0m\u001b[0mtime\u001b[0m\u001b[0;34m(\u001b[0m\u001b[0;34m)\u001b[0m\u001b[0;34m)\u001b[0m\u001b[0;34m,\u001b[0m \u001b[0mtext\u001b[0m\u001b[0;34m.\u001b[0m\u001b[0mencode\u001b[0m\u001b[0;34m(\u001b[0m\u001b[0;34m'utf8'\u001b[0m\u001b[0;34m)\u001b[0m\u001b[0;34m)\u001b[0m\u001b[0;34m\u001b[0m\u001b[0;34m\u001b[0m\u001b[0m\n",
            "\u001b[0;32m/usr/lib/python3.7/smtplib.py\u001b[0m in \u001b[0;36msendmail\u001b[0;34m(self, from_addr, to_addrs, msg, mail_options, rcpt_options)\u001b[0m\n\u001b[1;32m    891\u001b[0m             \u001b[0;32melse\u001b[0m\u001b[0;34m:\u001b[0m\u001b[0;34m\u001b[0m\u001b[0;34m\u001b[0m\u001b[0m\n\u001b[1;32m    892\u001b[0m                 \u001b[0mself\u001b[0m\u001b[0;34m.\u001b[0m\u001b[0m_rset\u001b[0m\u001b[0;34m(\u001b[0m\u001b[0;34m)\u001b[0m\u001b[0;34m\u001b[0m\u001b[0;34m\u001b[0m\u001b[0m\n\u001b[0;32m--> 893\u001b[0;31m             \u001b[0;32mraise\u001b[0m \u001b[0mSMTPDataError\u001b[0m\u001b[0;34m(\u001b[0m\u001b[0mcode\u001b[0m\u001b[0;34m,\u001b[0m \u001b[0mresp\u001b[0m\u001b[0;34m)\u001b[0m\u001b[0;34m\u001b[0m\u001b[0;34m\u001b[0m\u001b[0m\n\u001b[0m\u001b[1;32m    894\u001b[0m         \u001b[0;31m#if we got here then somebody got our mail\u001b[0m\u001b[0;34m\u001b[0m\u001b[0;34m\u001b[0m\u001b[0;34m\u001b[0m\u001b[0m\n\u001b[1;32m    895\u001b[0m         \u001b[0;32mreturn\u001b[0m \u001b[0msenderrs\u001b[0m\u001b[0;34m\u001b[0m\u001b[0;34m\u001b[0m\u001b[0m\n",
            "\u001b[0;31mSMTPDataError\u001b[0m: (554, b'5.7.1 Message rejected under suspicion of SPAM; https://ya.cc/1IrBc 1660740889-58RKgns5Iy-smhmRMax')"
          ]
        }
      ],
      "source": [
        "def send_email(temperature):\n",
        "    # change these as per use\n",
        "    your_email = \"contact@davidandcoinsurance.ml\"\n",
        "    your_password = \"oagmrltmrhdflimq\" \n",
        "    #\"zmzhtvvjweujqtml\"\n",
        "    \n",
        "\n",
        "    # SMTP Server Config\n",
        "    server = smtplib.SMTP_SSL('smtp.yandex.ru', 465)\n",
        "    #server.starttls()\n",
        "    server.ehlo()\n",
        "    server.login(your_email, your_password)\n",
        "\n",
        "    # IMAP Server Config\n",
        "    imap = imaplib.IMAP4_SSL('imap.yandex.com', 993)\n",
        "    imap.login(your_email, your_password)\n",
        "    \n",
        "   \n",
        "    \n",
        "    # reading the spreadsheet\n",
        "    email_list = pd.read_excel('/content/drive/MyDrive/Insurance Leads/Python Email/Untitled.xlsx')\n",
        "    \n",
        "    # getting the names and the emails\n",
        "    names = email_list['Name'].values\n",
        "    emails = email_list['Email'].values\n",
        "\n",
        "    # body = ''' \n",
        "    # Hello,\n",
        "    # Wanted to see what was up?\n",
        "    # '''\n",
        "           \n",
        "    # body = \"\"\"<html>\n",
        "    #                                     <body>\n",
        "    #                                     <p>Hi, <br>My name is Sarath Kaul</br></p>\n",
        "    #                                     <p> I am reaching out to you to check my email HTML Content </p>\n",
        "    #                                     </body>\n",
        "    #                                 </html>\n",
        "    #                                 \"\"\"\n",
        "    \n",
        "    msg = MIMEMultipart()\n",
        "    #msg['To'] = \", \".join(emails)\n",
        "    #msg.attach(MIMEText(body, 'plain'))\n",
        "    #msg.attach(MIMEText(body, 'html'))\n",
        "    msg['From'] = your_email\n",
        "    msg['Subject']= 'Quote'\n",
        "    #msg['CC'] = 'contact@davidandcoinsurance.ml'\n",
        "\n",
        "     # --------  For sending from HTML File instead  -----------------\n",
        "    html = open(\"/content/drive/MyDrive/Insurance Leads/Python Email/Quote.html\")\n",
        "    msg.attach(MIMEText(html.read(), 'html'))\n",
        "\n",
        "\n",
        "    # iterate through the records\n",
        "    for i in range(len(emails)):\n",
        "    \n",
        "        # for every record get the name and the email addresses\n",
        "        name = names[i]\n",
        "        email = emails[i]    \n",
        "        \n",
        "        # Set email SUBJECT attribute\n",
        "        # _subject = 'Quote for ' + str(name)\n",
        "        # if msg['Subject']:\n",
        "        #     del msg['Subject']\n",
        "        #     msg['Subject'] = _subject\n",
        "        # else:\n",
        "        #     msg['Subject'] = _subject\n",
        "        # Set email TO attribute\n",
        "        \n",
        "        if msg['To']:\n",
        "            del msg['To']\n",
        "            msg['To'] = str(email)\n",
        "        else: \n",
        "            msg['To'] = str(email)\n",
        "        text = msg.as_string()\n",
        "\n",
        "        # sending the email\n",
        "        server.sendmail(your_email, [email], text)\n",
        "        \n",
        "        imap.append('Sent', '\\\\Seen', imaplib.Time2Internaldate(time.time()), text.encode('utf8'))\n",
        "        \n",
        "        print('Email: ' + email + '    ' + 'Time: ' + str(datetime.now()))\n",
        "        \n",
        "    # close the smtp & imap server\n",
        "    imap.logout()\n",
        "    server.close()\n",
        "\n",
        "if __name__ == \"__main__\":\n",
        "    send_email(5)"
      ]
    }
  ],
  "metadata": {
    "kernelspec": {
      "display_name": "Python 3",
      "language": "python",
      "name": "python3"
    },
    "language_info": {
      "codemirror_mode": {
        "name": "ipython",
        "version": 3
      },
      "file_extension": ".py",
      "mimetype": "text/x-python",
      "name": "python",
      "nbconvert_exporter": "python",
      "pygments_lexer": "ipython3",
      "version": "3.6.4"
    },
    "colab": {
      "name": "email2.ipynb",
      "provenance": [],
      "include_colab_link": true
    }
  },
  "nbformat": 4,
  "nbformat_minor": 0
}